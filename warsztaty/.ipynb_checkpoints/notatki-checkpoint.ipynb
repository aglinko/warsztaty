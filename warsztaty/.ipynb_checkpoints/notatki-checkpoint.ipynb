{
 "cells": [
  {
   "cell_type": "markdown",
   "metadata": {},
   "source": [
    "1. Czym jest data science?\n",
    "2. Narzędzia, statystyka (wzory + kody), wizualizacja, śmieszne przykłady\n",
    "--zadanie\n",
    "3. Machine Learning\n",
    "--zadanie"
   ]
  },
  {
   "cell_type": "markdown",
   "metadata": {},
   "source": [
    "<img src=\"datascience.jpg\">"
   ]
  },
  {
   "cell_type": "markdown",
   "metadata": {},
   "source": [
    "<img src=\"collective.jpg\">"
   ]
  },
  {
   "cell_type": "markdown",
   "metadata": {},
   "source": [
    "<p><i>\"There is a healthy debate raging over the best language for learning data science. Many people believe it’s the statistical programming language R. (We call those people wrong.) A few people suggest Java or Scala. However, in my opinion, Python is the obvious choice.\" </i></p>"
   ]
  },
  {
   "cell_type": "markdown",
   "metadata": {},
   "source": [
    "Data science is about understanding systems, whether they be natural systems such as climate, or man-made systems like the economy. Scientists have been conducting experiments for centuries, but recent advances in technology have enabled us to utilize data to understand systems at a much larger scale. Individual data points represent snapshots of a system's behavior, and as you collect more data on that system, you build up a dataset that you can use to analyze and understand the system as a whole. Some examples of datasets include:\n",
    "\n",
    "A public company's daily stock prices\n",
    "GPS location data for Uber rides\n",
    "Police shootings in the U.S.\n",
    "You can apply data science techniques to virtually any field. One high-profile example of applied data science is the Netflix prize, where algorithms were developed to predict which movies viewers would enjoy. Another is the Heritage health prize, in which teams developed algorithms to identify the type of person most likely to be hospitalized in the near future.\n",
    "To work with data effectively, you need to learn how to program. Familiar software products like Microsoft Excel allow you to explore data, but aren't suitable for data science because they:\n",
    "\n",
    "don't scale to larger datasets.\n",
    "don't allow you tweak and run machine learning algorithms.\n",
    "make it challenging to reproduce your work.\n",
    "We focus primarily on the Python programming language, which has emerged as one of the most powerful and popular tools for doing data science. Engineers and data scientists use it to do everything from analyzing large datasets to building complex web applications, due to its incredible versatility.\n"
   ]
  },
  {
   "cell_type": "markdown",
   "metadata": {},
   "source": [
    "bias, variance, intepretability, wizualizacje, investigate relation, covariance.\n",
    "Whereas variance measures how a single variable deviates from its mean, covariance measures how two variables vary in tandem from their means:\n",
    "For this reason, it’s more common to look at the correlation, which divides out the standard deviations of both variables\n",
    "One not uncommon surprise when analyzing data is Simpson’s Paradox, in which correlations can be misleading when confounding variables are ignored.\n",
    "A correlation of zero indicates that there is no linear relationship between the two variables. \n",
    "ut they certainly have a relationship—each ele‐ ment of y equals the absolute value of the corresponding element of x. What they\n",
    " 66 | Chapter 5: Statistics\n",
    "don’t have is a relationship in which knowing how x_i compares to mean(x) gives us information about how y_i compares to mean(y).\n",
    "Nonetheless, this is an important point—if x and y are strongly correlated, that might mean that x causes y, that y causes x, that each causes the other, that some third factor causes both, or it might mean nothing.\n",
    "1. Each child is equally likely to be a boy or a girl\n",
    "2. The gender of the second child is independent of the gender of the first child\n",
    "                                70 | Chapter 6: Probability\n",
    "then the event “no girls” has probability 1/4, the event “one girl, one boy” has proba‐ bility 1/2, and the event “two girls” has probability 1/4."
   ]
  },
  {
   "cell_type": "markdown",
   "metadata": {},
   "source": [
    "handling files in python - open, split"
   ]
  },
  {
   "cell_type": "markdown",
   "metadata": {},
   "source": [
    "For this challenge, you'll be working with the dataset behind this FiveThirtyEight article on common unisex (gender-neutral) names in the United States. You'll start by reading in the file and iteratively converting the data to more useful representations. At the end of this challenge, you'll filter the names to include only those shared by at least 1000 people."
   ]
  }
 ],
 "metadata": {
  "kernelspec": {
   "display_name": "Python 2",
   "language": "python",
   "name": "python2"
  },
  "language_info": {
   "codemirror_mode": {
    "name": "ipython",
    "version": 2
   },
   "file_extension": ".py",
   "mimetype": "text/x-python",
   "name": "python",
   "nbconvert_exporter": "python",
   "pygments_lexer": "ipython2",
   "version": "2.7.11"
  }
 },
 "nbformat": 4,
 "nbformat_minor": 0
}
